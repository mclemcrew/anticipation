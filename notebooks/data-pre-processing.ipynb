{
 "cells": [
  {
   "cell_type": "code",
   "execution_count": null,
   "metadata": {},
   "outputs": [],
   "source": [
    "import os\n",
    "import shutil\n",
    "import hashlib\n",
    "\n",
    "def split_midi_files(input_folder, output_folder):\n",
    "    # Create the output folder if it doesn't exist\n",
    "    os.makedirs(output_folder, exist_ok=True)\n",
    "    \n",
    "    # Create subfolders for each split\n",
    "    for split in '0123456789abcdef':\n",
    "        os.makedirs(os.path.join(output_folder, split), exist_ok=True)\n",
    "    \n",
    "    # Iterate through all files in the input folder\n",
    "    for filename in os.listdir(input_folder):\n",
    "        if filename.endswith('.mid') or filename.endswith('.midi'):\n",
    "            file_path = os.path.join(input_folder, filename)\n",
    "            \n",
    "            # Calculate MD5 hash of the file\n",
    "            with open(file_path, 'rb') as f:\n",
    "                file_hash = hashlib.md5(f.read()).hexdigest()\n",
    "            \n",
    "            # Determine which subfolder to put the file in\n",
    "            subfolder = file_hash[0]\n",
    "            \n",
    "            # Copy the file to the appropriate subfolder\n",
    "            destination = os.path.join(output_folder, subfolder, filename)\n",
    "            shutil.copy2(file_path, destination)\n",
    "    \n",
    "    print(f\"Files have been split into subfolders in {output_folder}\")\n",
    "\n",
    "# Usage\n",
    "input_folder = \"\"\n",
    "output_folder = \"\"\n",
    "split_midi_files(input_folder, output_folder)"
   ]
  }
 ],
 "metadata": {
  "kernelspec": {
   "display_name": "anticipation",
   "language": "python",
   "name": "python3"
  },
  "language_info": {
   "name": "python",
   "version": "3.11.10"
  }
 },
 "nbformat": 4,
 "nbformat_minor": 2
}
